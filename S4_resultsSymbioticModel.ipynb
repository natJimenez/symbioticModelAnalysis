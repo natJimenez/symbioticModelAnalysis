{
 "cells": [
  {
   "cell_type": "markdown",
   "metadata": {},
   "source": [
    "# Supplementary material: \"Novel symbiotic genome-scale model reveals Wolbachia's arboviral pathogen blocking mechanism in _Aedes aegypti_\"\n",
    "Reproduction of results"
   ]
  },
  {
   "cell_type": "markdown",
   "metadata": {},
   "source": [
    "# Imports, load model and function definitions"
   ]
  },
  {
   "cell_type": "code",
   "execution_count": 1,
   "metadata": {
    "ExecuteTime": {
     "end_time": "2020-01-02T14:43:19.479461Z",
     "start_time": "2020-01-02T14:43:11.546829Z"
    }
   },
   "outputs": [],
   "source": [
    "import cobra\n",
    "from cobra import Reaction, Metabolite\n",
    "from cobra import flux_analysis\n",
    "from cobra.flux_analysis import flux_variability_analysis\n",
    "from cobra.flux_analysis import find_blocked_reactions\n",
    "#from cobra.flux_analysis import sample\n",
    "\n",
    "import numpy as np\n",
    "import pandas as pd\n",
    "import matplotlib as mpl\n",
    "import matplotlib.pyplot as plt\n",
    "plt.rcParams.update({'font.size': 20})\n",
    "import math\n",
    "from matplotlib.ticker import MaxNLocator\n",
    "from collections import namedtuple\n",
    "%matplotlib inline"
   ]
  },
  {
   "cell_type": "code",
   "execution_count": 2,
   "metadata": {
    "ExecuteTime": {
     "end_time": "2020-01-02T14:43:19.479461Z",
     "start_time": "2020-01-02T14:43:11.546829Z"
    }
   },
   "outputs": [
    {
     "name": "stdout",
     "output_type": "stream",
     "text": [
      "\n",
      "--------------------------------------------\n",
      "Warning: your license will expire in 8 days\n",
      "--------------------------------------------\n",
      "\n",
      "Using license file /Users/natjimenez/gurobi.lic\n",
      "Academic license - for non-commercial use only\n"
     ]
    }
   ],
   "source": [
    "model = cobra.io.read_sbml_model('SymbioticTransformedmBioVALIDIDs.xml') "
   ]
  },
  {
   "cell_type": "code",
   "execution_count": 37,
   "metadata": {
    "code_folding": []
   },
   "outputs": [],
   "source": [
    "def setMedia(model, boundAA = 0.07 ):\n",
    "    #Defines growth media constraints based on a value valid for all amino acids, additionally it closes\n",
    "    #riboflavin transport (to be supplied by Wolbachia)\n",
    "\n",
    "    rxn = model.reactions.get_by_id('EX_phe_L_LPAREN_e_RPAREN_')\n",
    "    rxn.lower_bound = -boundAA\n",
    "    rxn.upper_bound = boundAA\n",
    "\n",
    "    rxn = model.reactions.get_by_id('EX_ribflv_LPAREN_e_RPAREN_')\n",
    "    rxn.lower_bound = 0\n",
    "    rxn.upper_bound = 0\n",
    "\n",
    "    rxn = model.reactions.get_by_id('EX_arg_L_LPAREN_e_RPAREN_')\n",
    "    rxn.lower_bound = -boundAA\n",
    "    rxn.upper_bound = boundAA\n",
    "\n",
    "    rxn = model.reactions.get_by_id('EX_trp_L_LPAREN_e_RPAREN_')\n",
    "    rxn.lower_bound = -boundAA\n",
    "    rxn.upper_bound = boundAA\n",
    "\n",
    "\n",
    "    rxn = model.reactions.get_by_id('EX_val_L_LPAREN_e_RPAREN_')\n",
    "    rxn.lower_bound = -boundAA\n",
    "    rxn.upper_bound = boundAA\n",
    "\n",
    "    rxn = model.reactions.get_by_id('EX_tre_LPAREN_e_RPAREN_')\n",
    "    rxn.lower_bound = -boundAA\n",
    "    rxn.upper_bound = boundAA\n",
    "\n",
    "    rxn = model.reactions.get_by_id('EX_ile_L_LPAREN_e_RPAREN_')\n",
    "    rxn.lower_bound = -boundAA\n",
    "    rxn.upper_bound = boundAA\n",
    "    rxn = model.reactions.get_by_id('EX_leu_L_LPAREN_e_RPAREN_')\n",
    "    rxn.lower_bound = -boundAA\n",
    "    rxn.upper_bound = boundAA\n",
    "    rxn = model.reactions.get_by_id('EX_met_L_LPAREN_e_RPAREN_')\n",
    "    rxn.lower_bound = -boundAA\n",
    "    rxn.upper_bound = boundAA\n",
    "\n",
    "    rxn = model.reactions.get_by_id('EX_his_L_LPAREN_e_RPAREN_')\n",
    "    rxn.lower_bound = -boundAA\n",
    "    rxn.upper_bound = boundAA\n",
    "\n",
    "\n",
    "    rxn = model.reactions.get_by_id('EX_chol_LPAREN_e_RPAREN_')\n",
    "    rxn.lower_bound = -1\n",
    "    rxn.upper_bound = 1\n",
    "\n",
    "    rxn = model.reactions.get_by_id('EX_tre_LPAREN_e_RPAREN_')\n",
    "    rxn.lower_bound = -10\n",
    "    rxn.upper_bound = 10\n",
    "\n",
    "    sol = model.optimize()\n",
    "    model.summary()\n",
    "\n",
    "    return model"
   ]
  },
  {
   "cell_type": "markdown",
   "metadata": {},
   "source": [
    "# Model set up and constraints\n",
    "Limits ammount of Riboflavin to be produced by Wolbachia"
   ]
  },
  {
   "cell_type": "code",
   "execution_count": 38,
   "metadata": {
    "ExecuteTime": {
     "end_time": "2020-01-02T14:44:34.806572Z",
     "start_time": "2020-01-02T14:44:34.793416Z"
    },
    "code_folding": []
   },
   "outputs": [],
   "source": [
    "model = setMedia(model)\n",
    "\n",
    "wolbachia_ribflv = model.problem.Constraint(\n",
    "    model.reactions.RIBFLVt2w.flux_expression-1.183e-07*model.reactions.biomass_wolbachia.flux_expression,\n",
    "    lb=-100,ub=0) #era -07\n",
    "model.add_cons_vars(wolbachia_ribflv)\n",
    "model.solver.update()"
   ]
  },
  {
   "cell_type": "markdown",
   "metadata": {},
   "source": [
    "## \"Pareto\" growth curve and sampling\n",
    "a. Pareto front between _Wolbachia_ and _Aedes aegypti_. Dots represent feasible solutions of the model after sampling 20,000 feasible solutions in terms of their cell growth rate\n"
   ]
  },
  {
   "cell_type": "code",
   "execution_count": 41,
   "metadata": {
    "ExecuteTime": {
     "end_time": "2020-01-02T14:44:12.389244Z",
     "start_time": "2020-01-02T14:43:38.543431Z"
    },
    "scrolled": false
   },
   "outputs": [],
   "source": [
    "#Define wolbachia minimum growth grid\n",
    "wolBio = np.linspace(0.0001,0.13,100)\n",
    "bioW = model.reactions.get_by_id('biomass_wolbachia')\n",
    "solmB = [] #biomass mosquito\n",
    "model.objective = 'biomass_reaction'\n",
    "\n",
    "\n",
    "solo2 = [] #o2\n",
    "solribflvW = [] #riboflavin from wolbachia\n",
    "solthm = [] #thiamine\n",
    "solfol = []\n",
    "solchsterol = []\n",
    "\n",
    "#Amino acids\n",
    "#EX_leu_L_LPAREN_e_RPAREN_\n",
    "#r1557 #ile\n",
    "#r1554 #val\n",
    "solLeu = []\n",
    "solIle = []\n",
    "solVal = []\n",
    "for wB in wolBio:\n",
    "#for wB in mosBio:\n",
    "    bioW.lower_bound = wB\n",
    "    bioW.upper_bound = wB\n",
    "    #print wB\n",
    "    #bioM.lower_bound = wB\n",
    "    #bioM.upper_bound = wB\n",
    "    \n",
    "    try:\n",
    "        sol = model.optimize()\n",
    "        #print model.summary()\n",
    "        #if sol['bioT'] > 0:\n",
    "        if sol['biomass_reaction'] > 0:\n",
    "            solmB.append(sol['biomass_reaction'])\n",
    "#             #solwB.append(sol['bioT'])\n",
    "            solo2.append(sol['EX_o2_LPAREN_e_RPAREN_'])\n",
    "            solribflvW.append(sol['RIBFLVt2w'])\n",
    "            solthm.append(sol['EX_thm_LPAREN_e_RPAREN_'])\n",
    "            solfol.append(sol['EX_fol_LPAREN_e_RPAREN_'])\n",
    "            solchsterol.append(sol['EX_chsterol_LPAREN_e_RPAREN_'])\n",
    "            \n",
    "            solLeu.append(sol['EX_leu_L_LPAREN_e_RPAREN_'])\n",
    "            solIle.append(sol['r1557'])\n",
    "            solVal.append(sol['r1554'])\n",
    "#             #print model.metabolites.ribflv_c.summary(threshold = 0)\n",
    "#             #print sol['rxn05645_c0']-1.183e-11*sol['bioT']\n",
    "            \n",
    "            \n",
    "        else: \n",
    "            solmB.append(0)\n",
    "            #solwB.append(0)\n",
    "            solo2.append(0)\n",
    "            solribflvW.append(0)\n",
    "            solthm.append(0)\n",
    "            solfol.append(0)\n",
    "            solchsterol.append(0)\n",
    "            \n",
    "            solLeu.append(0)\n",
    "            solIle.append(0)\n",
    "            solVal.append(0)\n",
    "    except:\n",
    "        #solmB = -1\n",
    "        print(wB)\n",
    "        solmB.append(-1)\n",
    "        #solwB.append(-1)\n"
   ]
  },
  {
   "cell_type": "code",
   "execution_count": 42,
   "metadata": {
    "ExecuteTime": {
     "end_time": "2020-01-02T14:44:12.641823Z",
     "start_time": "2020-01-02T14:44:12.391065Z"
    }
   },
   "outputs": [
    {
     "data": {
      "image/png": "[encoded data removed]",
      "text/plain": [
       "<Figure size 432x288 with 1 Axes>"
      ]
     },
     "metadata": {
      "needs_background": "light"
     },
     "output_type": "display_data"
    },
    {
     "name": "stdout",
     "output_type": "stream",
     "text": [
      "-2.5128520629003623\n"
     ]
    }
   ],
   "source": [
    "fig, ax1 = plt.subplots()\n",
    "\n",
    "#ax1.plot(solwB,mosBio,label='Wolbachia', color='firebrick')\n",
    "ax1.plot(wolBio, solmB,label='Wolbachia', linestyle='--', color='#a6bddb')#, color='firebrick')\n",
    "#plt.scatter(wolBio,solmB,marker='.')\n",
    "ax1.set_xlabel('$\\it{Wolbachia}$ growth [1/h]') #,fontsize=18\n",
    "# Make the y-axis label, ticks and tick labels match the line color.\n",
    "ax1.set_ylabel('$\\it{A. aegypti}$ growth [1/h]')#, color='firebrick') #, fontsize=18\n",
    "ax1.tick_params('y')#, colors='firebrick')\n",
    "fig.tight_layout()\n",
    "plt.show()\n",
    "\n",
    "#fig.savefig('paretoMosWol.pdf')\n",
    "\n",
    "wolPar = wolBio #Para graficar curva con sampling\n",
    "mosPar = solmB\n",
    "\n",
    "slope, intercept = np.polyfit(np.log(mosPar), np.log(wolPar), 1)\n",
    "print(slope)"
   ]
  },
  {
   "cell_type": "markdown",
   "metadata": {},
   "source": [
    "Loading sampling results generated in sampling section of this notebook"
   ]
  },
  {
   "cell_type": "code",
   "execution_count": 43,
   "metadata": {
    "ExecuteTime": {
     "end_time": "2020-01-02T14:44:32.822348Z",
     "start_time": "2020-01-02T14:44:12.645308Z"
    }
   },
   "outputs": [],
   "source": [
    "scsv = pd.read_csv('20181112csamplingSymbioticUnconstrained.csv')\n",
    "bioM = scsv['biomass_reaction']\n",
    "bioW = scsv['bioT']\n",
    "bioMS = bioM\n",
    "bioWS = bioW"
   ]
  },
  {
   "cell_type": "code",
   "execution_count": 44,
   "metadata": {
    "ExecuteTime": {
     "end_time": "2020-01-02T14:44:33.819318Z",
     "start_time": "2020-01-02T14:44:32.837968Z"
    }
   },
   "outputs": [
    {
     "name": "stdout",
     "output_type": "stream",
     "text": [
      "20000\n"
     ]
    },
    {
     "data": {
      "image/png": "[encoded data removed]",
      "text/plain": [
       "<Figure size 432x288 with 1 Axes>"
      ]
     },
     "metadata": {
      "needs_background": "light"
     },
     "output_type": "display_data"
    }
   ],
   "source": [
    "print(len(bioMS))\n",
    "fig, ax1 = plt.subplots()\n",
    "plt.scatter(bioWS, bioMS, marker='.') #(x,y)\n",
    "\n",
    "\n",
    "ax1.plot(wolPar, mosPar,label='Wolbachia', linestyle='--', color='#a6bddb')\n",
    "ax1.set_xlabel('$\\it{Wolbachia}$ growth [1/h]')\n",
    "# Make the y-axis label, ticks and tick labels match the line color.\n",
    "ax1.set_ylabel('$\\it{A. aegypti}$ growth [1/h]')\n",
    "\n",
    "\n",
    "fig.tight_layout()\n",
    "plt.show()\n",
    "#fig.savefig('paretoMosWol.pdf')\n"
   ]
  },
  {
   "cell_type": "code",
   "execution_count": 45,
   "metadata": {
    "ExecuteTime": {
     "end_time": "2020-01-02T14:44:34.789169Z",
     "start_time": "2020-01-02T14:44:33.825462Z"
    }
   },
   "outputs": [
    {
     "name": "stdout",
     "output_type": "stream",
     "text": [
      "20000\n",
      "8510.489086686015\n",
      "9.6084914989909\n",
      "9.6084914989909\n",
      "3.2573301729921256\n"
     ]
    },
    {
     "name": "stderr",
     "output_type": "stream",
     "text": [
      "/opt/anaconda3/envs/pareto/lib/python3.6/site-packages/pandas/core/series.py:679 \u001b[1;31mRuntimeWarning\u001b[0m: overflow encountered in float_power\n",
      "/opt/anaconda3/envs/pareto/lib/python3.6/site-packages/ipykernel_launcher.py:46 \u001b[1;31mUserWarning\u001b[0m: This figure includes Axes that are not compatible with tight_layout, so results might be incorrect.\n"
     ]
    },
    {
     "data": {
      "image/png": "[encoded data removed]",
      "text/plain": [
       "<Figure size 432x288 with 2 Axes>"
      ]
     },
     "metadata": {
      "needs_background": "light"
     },
     "output_type": "display_data"
    }
   ],
   "source": [
    "tdMS = np.true_divide(math.log(2),bioMS)\n",
    "tdWS= np.true_divide(math.log(2),bioW)\n",
    "#tdMS = math.log(2)/bioMS\n",
    "#tdWS = math.log(2)/bioW\n",
    "\n",
    "print(len(bioMS))\n",
    "fig, ax1 = plt.subplots()\n",
    "plt.scatter(tdWS, tdMS, marker='.') #(x,y)\n",
    "plt.xlabel('Wolbachia biomass')#, fontsize=18)\n",
    "plt.ylabel('Mosquito biomass')#, fontsize=18)\n",
    "\n",
    "#ax1.plot(math.log(2)/wolPar, math.log(2)/mosPar,label='Wolbachia', linestyle='--', color='#a6bddb')#, color='firebrick')\n",
    "ax1.set_xlabel('$\\it{Wolbachia}$ duplication time [h]') #,fontsize=18\n",
    "# Make the y-axis label, ticks and tick labels match the line color.\n",
    "ax1.set_ylabel('$\\it{A. aegypti}$ duplication time [h]')\n",
    "#ax1.set_ylim(bottom=None, top=200000, emit=True, auto=False, ymin=-5000, ymax=100000)\n",
    "ax1.set_xlim(xmin=0, xmax=1200)\n",
    "#ax1.set_ylim(bottom=None, top=200000, emit=True, auto=False, ymin=-5, ymax=1000)\n",
    "ax1.set_ylim(bottom=None, emit=True, auto=False, ymin=-5, ymax=1000)\n",
    "#ax1.tick_params('y')\n",
    "\n",
    "\n",
    "with np.errstate(divide='ignore'):\n",
    "    np.float64(1.0) / 0.0\n",
    "\n",
    "divide = np.true_divide(tdMS,tdWS)\n",
    "\n",
    "#wolperMos = np.array(wolperMos, dtype=np.float128)\n",
    "wolperMos = np.float_power(2,divide)\n",
    "\n",
    "forAvg = wolperMos[wolperMos<10000]\n",
    "\n",
    "print(np.amax(forAvg))\n",
    "#forAvg = wolperMos\n",
    "print(np.average(forAvg))\n",
    "print(forAvg.mean())\n",
    "print(np.median(forAvg))\n",
    "sub_axes = plt.axes([.62, .3, .25, .4]) \n",
    "n, bins, patches = sub_axes.hist(wolperMos,bins =30, range=(0.8, 30))\n",
    "\n",
    "plt.axvline(np.median(forAvg), linestyle='dashed', linewidth=1)\n",
    "plt.xlabel('$\\it{Wolbachia}$ cells per mosquito')#, fontsize=18)\n",
    "plt.ylabel('Samples')#, fontsize=18)\n",
    "\n",
    "\n",
    "fig.tight_layout()\n",
    "plt.show()\n",
    "#fig.savefig('paretoMosWolTd.pdf')"
   ]
  },
  {
   "cell_type": "markdown",
   "metadata": {},
   "source": [
    "## Amino acids, carbon sources and lipids consumed by Wolbachia\n",
    "\n",
    "This analysis shows how much of the amino acids and lipids consumed by _Aedes aegypti_ are used as components of _Wolbachia pipientis_ biomass. The results are presented in fractions of transport of these metabolites into _Wolbachia_ divided by total exchange reactions of the whole system composed by both organisms."
   ]
  },
  {
   "cell_type": "code",
   "execution_count": 46,
   "metadata": {},
   "outputs": [],
   "source": [
    "def solToPlot(sol):\n",
    "    glyc3p =  sol['rxn05578w']/abs(sol['GLYC3Ptmc']+abs(sol['GLYC3Ptmc'])+abs(sol['G3PD1']))\n",
    "    arg = sol['ALP1w']/sol['EX_arg_L_LPAREN_e_RPAREN_'] #Transporte de argininaa\n",
    "    ile = sol['AGP1_6w']/sol['EX_ile_L_LPAREN_e_RPAREN_']\n",
    "    leu = sol['AGP1_7w']/sol['EX_leu_L_LPAREN_e_RPAREN_']\n",
    "    lys = sol['GAP1_20w']/sol['EX_lys_L_LPAREN_e_RPAREN_']\n",
    "    met = sol['AGP1_8w']/sol['EX_met_L_LPAREN_e_RPAREN_']\n",
    "    phe = sol['AGP1_9w']/sol['EX_phe_L_LPAREN_e_RPAREN_']\n",
    "    thr = sol['AGP1_13w']/sol['EX_thr_L_LPAREN_e_RPAREN_']\n",
    "    trp = sol['BAP2_6w']/sol['EX_trp_L_LPAREN_e_RPAREN_']\n",
    "    val = sol['AGP1_11w']/sol['EX_val_L_LPAREN_e_RPAREN_']\n",
    "    chsterol = sol['lipidWTr']*0.2/sol['EX_chsterol_LPAREN_e_RPAREN_']\n",
    "    clpn = sol['lipidWTr']*0.6/sol['CLS_hs']   \n",
    "    pe = sol['lipidWTr']*1.59/abs(sol['CEPTE']+sol['PE_HStm'])\n",
    "    ps = sol['lipidWTr']*0.18/sol['RE3301C']*-1\n",
    "\n",
    "    \n",
    "    toPlot = (glyc3p, arg , ile , leu , lys , met ,  phe, thr , trp  , val, chsterol, clpn, pe, ps)\n",
    "    return toPlot\n",
    "def toPlotLD(sol):\n",
    "    ##To lipid droplets\n",
    "    chsterol_ld = sol['sink_chsterolW']/sol['EX_chsterol_LPAREN_e_RPAREN_']\n",
    "    clpn_ld = sol['sink_clpnW']/sol['CLS_hs']\n",
    "    pe_ld = sol['sink_peW']/abs(sol['CEPTE']+sol['PE_HStm'])\n",
    "    ps_ld = sol['sink_psW']/sol['RE3301C']*-1\n",
    "    \n",
    "    toPlot =(chsterol_ld, clpn_ld, pe_ld, ps_ld )\n",
    "    return toPlot"
   ]
  },
  {
   "cell_type": "raw",
   "metadata": {
    "ExecuteTime": {
     "end_time": "2020-01-02T14:44:34.936718Z",
     "start_time": "2020-01-02T14:44:34.818573Z"
    }
   },
   "source": [
    "print(model.metabolites.glyc3p_c.summary(threshold = 0))\n",
    "print(model.reactions.biomass_wolbachia)\n",
    "model.reactions.GLYK\n",
    "model.reactions.G3PD1"
   ]
  },
  {
   "cell_type": "code",
   "execution_count": 47,
   "metadata": {},
   "outputs": [
    {
     "data": {
      "image/png": "[encoded data removed]",
      "text/plain": [
       "<Figure size 936x288 with 2 Axes>"
      ]
     },
     "metadata": {
      "needs_background": "light"
     },
     "output_type": "display_data"
    }
   ],
   "source": [
    "fixedMosBio = 0.01\n",
    "\n",
    "rxn = model.reactions.get_by_id('biomass_reaction')\n",
    "rxn.upper_bound = fixedMosBio\n",
    "rxn.lower_bound = fixedMosBio\n",
    "\n",
    "fixedWolPerMos = 1\n",
    "rxn = model.reactions.get_by_id('biomass_wolbachia')\n",
    "rxn.lower_bound = fixedMosBio*fixedWolPerMos #era 0.05\n",
    "rxn.upper_bound = fixedMosBio*fixedWolPerMos  # era 0.015\n",
    "\n",
    "\n",
    "sol = model.optimize()\n",
    "\n",
    "#flux variability analysis\n",
    "bar_width = 0.2\n",
    "#means_wol1 = (glyc3p, arg , ile , leu , lys , met ,  phe, thr , trp  , val, chsterol, clpn, pe, ps)\n",
    "    \n",
    "means_wol1 = solToPlot(sol)\n",
    "n_groups = len(means_wol1)\n",
    "means_ld1 =toPlotLD(sol)\n",
    "\n",
    "plotld1 = np.zeros_like(means_wol1)\n",
    "plotld1[-len(means_ld1):] = means_ld1\n",
    "\n",
    "\n",
    "\n",
    "fixedWolPerMos = 2\n",
    "rxn = model.reactions.get_by_id('biomass_wolbachia')\n",
    "rxn.lower_bound = fixedMosBio*fixedWolPerMos #era 0.05\n",
    "rxn.upper_bound = fixedMosBio*fixedWolPerMos  # era 0.015\n",
    "\n",
    "\n",
    "sol = model.optimize()\n",
    "#model.summary()\n",
    "\n",
    "#print(sol['bioT'])\n",
    "\n",
    "means_ld2 =toPlotLD(sol)\n",
    "plotld2 = np.zeros_like(means_wol1)\n",
    "plotld2[-len(means_ld1):] = means_ld2\n",
    "\n",
    "\n",
    "means_wol2 = solToPlot(sol)\n",
    "\n",
    "fig, ax = plt.subplots(figsize=(13,4))\n",
    "\n",
    "index = np.arange(n_groups)\n",
    "\n",
    "error_config = {'ecolor': '0.3'}\n",
    "\n",
    "rects1 = ax.bar(index, means_wol2, bar_width,\n",
    "                color='#1f77b4')#, label='Exchange'\n",
    "\n",
    "rects2 = ax.bar(index+bar_width, means_wol1, bar_width,\n",
    "                color='#a6bddb') #,label='Wolbachia')\n",
    "\n",
    "ld2 = ax.bar(index+2*bar_width, plotld2, bar_width,\n",
    "                color='#ff7f0e') #,label='Wolbachia')\n",
    "ld1 = ax.bar(index+3*bar_width, plotld1, bar_width,\n",
    "                color='#fed8b1') #,label='Wolbachia')\n",
    "\n",
    "\n",
    "\n",
    "ax.set_ylabel('Normalized flux')\n",
    "ax.set_xticks(index)\n",
    "ax.set_xticklabels(('Glycerol-3P','Arginine', 'Isoleucine', 'Leucine', 'Lysine', 'Methionine', 'Phenylalanine','Threonine','Tryptophan','Valine', 'Cholesterol', 'Cardiolipin','Phosphoethanolamine','Phosphatidylserine'), rotation='60')\n",
    "\n",
    "ax2 = ax.twinx()\n",
    "\n",
    "ax2.set_ylabel('Normalized flux')\n",
    "\n",
    "#ax2.set_ylim(ymax=4.2*y2max)\n",
    "\n",
    "#ax.legend()\n",
    "plt.ylim(top=1)\n",
    "fig.tight_layout()\n",
    "plt.show()\n",
    "#fig.savefig('AAExchange2020.pdf')"
   ]
  },
  {
   "cell_type": "code",
   "execution_count": 48,
   "metadata": {},
   "outputs": [
    {
     "data": {
      "image/png": "[encoded data removed]",
      "text/plain": [
       "<Figure size 936x288 with 2 Axes>"
      ]
     },
     "metadata": {
      "needs_background": "light"
     },
     "output_type": "display_data"
    }
   ],
   "source": [
    "fixedMosBio = 0.01\n",
    "\n",
    "rxn = model.reactions.get_by_id('biomass_reaction')\n",
    "rxn.upper_bound = fixedMosBio\n",
    "rxn.lower_bound = fixedMosBio\n",
    "\n",
    "fixedWolPerMos = 1\n",
    "rxn = model.reactions.get_by_id('biomass_wolbachia')\n",
    "rxn.lower_bound = fixedMosBio*fixedWolPerMos #era 0.05\n",
    "rxn.upper_bound = fixedMosBio*fixedWolPerMos  # era 0.015\n",
    "\n",
    "\n",
    "sol = model.optimize()\n",
    "\n",
    "#flux variability analysis\n",
    "bar_width = 0.2\n",
    "#means_wol1 = (glyc3p, arg , ile , leu , lys , met ,  phe, thr , trp  , val, chsterol, clpn, pe, ps)\n",
    "    \n",
    "means_wol1 = solToPlot(sol)\n",
    "n_groups = len(means_wol1)\n",
    "means_ld1 =toPlotLD(sol)\n",
    "\n",
    "plotld1 = np.zeros_like(means_wol1)\n",
    "plotld1[-len(means_ld1):] = means_ld1\n",
    "\n",
    "\n",
    "\n",
    "fixedWolPerMos = 2\n",
    "rxn = model.reactions.get_by_id('biomass_wolbachia')\n",
    "rxn.lower_bound = fixedMosBio*fixedWolPerMos #era 0.05\n",
    "rxn.upper_bound = fixedMosBio*fixedWolPerMos  # era 0.015\n",
    "\n",
    "\n",
    "sol = model.optimize()\n",
    "#model.summary()\n",
    "\n",
    "#print(sol['bioT'])\n",
    "\n",
    "means_ld2 =toPlotLD(sol)\n",
    "plotld2 = np.zeros_like(means_wol1)\n",
    "plotld2[-len(means_ld1):] = means_ld2\n",
    "\n",
    "\n",
    "means_wol2 = solToPlot(sol)\n",
    "\n",
    "fig, ax = plt.subplots(figsize=(13,4))\n",
    "\n",
    "index = np.arange(n_groups)\n",
    "\n",
    "error_config = {'ecolor': '0.3'}\n",
    "\n",
    "rects1 = ax.bar(index, means_wol2, bar_width,\n",
    "                color='#1f77b4')#, label='Exchange'\n",
    "\n",
    "rects2 = ax.bar(index+bar_width, means_wol1, bar_width,\n",
    "                color='#a6bddb') #,label='Wolbachia')\n",
    "\n",
    "ld2 = ax.bar(index+2*bar_width, plotld2, bar_width,\n",
    "                color='#ff7f0e') #,label='Wolbachia')\n",
    "ld1 = ax.bar(index+3*bar_width, plotld1, bar_width,\n",
    "                color='#fed8b1') #,label='Wolbachia')\n",
    "\n",
    "\n",
    "\n",
    "ax.set_ylabel('Normalized flux')\n",
    "ax.set_xticks(index)\n",
    "ax.set_xticklabels(('Glycerol-3P','Arginine', 'Isoleucine', 'Leucine', 'Lysine', 'Methionine', 'Phenylalanine','Threonine','Tryptophan','Valine', 'Cholesterol', 'Cardiolipin','Phosphoethanolamine','Phosphatidylserine'), rotation='60')\n",
    "\n",
    "ax2 = ax.twinx()\n",
    "\n",
    "ax2.set_ylabel('Normalized flux')\n",
    "\n",
    "#ax2.set_ylim(ymax=4.2*y2max)\n",
    "\n",
    "#ax.legend()\n",
    "plt.ylim(top=1)\n",
    "fig.tight_layout()\n",
    "plt.show()\n",
    "#fig.savefig('AAExchange2020.pdf')"
   ]
  },
  {
   "cell_type": "markdown",
   "metadata": {},
   "source": [
    "# Simulation of viral infection\n",
    "\n",
    "Composition of a viral particle based on Zika virus amino acid composition and lipid composition."
   ]
  },
  {
   "cell_type": "code",
   "execution_count": 49,
   "metadata": {},
   "outputs": [],
   "source": [
    "\n",
    "rxn = model.reactions.get_by_id('biomass_wolbachia')\n",
    "rxn.lower_bound = 0 \n",
    "rxn.upper_bound = 1000\n",
    "\n",
    "rxn = model.reactions.get_by_id('biomass_reaction')\n",
    "rxn.upper_bound = 1000\n",
    "rxn.lower_bound = 0"
   ]
  },
  {
   "cell_type": "code",
   "execution_count": 50,
   "metadata": {
    "ExecuteTime": {
     "end_time": "2019-12-18T17:23:20.123732Z",
     "start_time": "2019-12-18T17:23:19.000722Z"
    }
   },
   "outputs": [
    {
     "name": "stdout",
     "output_type": "stream",
     "text": [
      "ADDED reaction! ZIKV: 0.3226951 ala_L_c + 0.224474 arg_L_c + 0.1196816 asn_L_c + 0.1870786 asp_L_c + 16.555468 atp_c + 0.01406874 crm_hs_c + 0.1558894 ctp_c + 0.0982461 cys_L_c + 0.0884356 gln_L_c + 0.1991574 glu_L_c + 0.3944586 gly_c + 0.1558894 gtp_c + 16.405306 h2o_c + 0.118831 his_L_c + 0.2282768 ile_L_c + 0.3844497 leu_L_c + 0.2590974 lys_L_c + 0.1508708 met_L_c + 0.106989 pchol_hs_c + 0.08079474 pe_hs_c + 0.1294636 phe_L_c + 0.135985 pro_L_c + 0.00211 ps_hs_c + 0.2746353 ser_L_c + 0.05982 sphmyln_hs_c + 0.3058529 thr_L_c + 0.083814 trp_L_c + 0.0988982 tyr_L_c + 0.1501619 utp_c + 0.3020535 val_L_c --> 16.4053059 adp_c + 16.4053059 h_c + 16.4053059 pi_c + 0.61204603 ppi_c\n"
     ]
    },
    {
     "name": "stderr",
     "output_type": "stream",
     "text": [
      "cobra/core/model.py:727 \u001b[1;31mUserWarning\u001b[0m: ZIKV not in symbiotic\n"
     ]
    }
   ],
   "source": [
    "model.remove_reactions(list(['ZIKV']))\n",
    "virusRxn = '0.3226951 ala_L_c + 0.224474 arg_L_c + 0.1196816 asn_L_c + 0.1870786 asp_L_c + 16.555468 atp_c + 0.1558894 ctp_c + 0.0982461 cys_L_c + 0.0884356 gln_L_c + 0.1991574 glu_L_c + 0.3944586 gly_c + 0.1558894 gtp_c + 16.405306 h2o_c + 0.118831 his_L_c + 0.2282768 ile_L_c + 0.3844497 leu_L_c + 0.2590974 lys_L_c + 0.1508708 met_L_c + 0.1294636 phe_L_c + 0.135985 pro_L_c + 0.2746353 ser_L_c + 0.3058529 thr_L_c + 0.083814 trp_L_c + 0.0988982 tyr_L_c + 0.1501619 utp_c + 0.3020535 val_L_c + 0.106989 pchol_hs_c +0.00211 ps_hs_c + 0.05982 sphmyln_hs_c + 0.08079474 pe_hs_c + 0.01406874 crm_hs_c -> 16.4053059 h_c + 16.4053059 pi_c + 0.61204603 ppi_c + 16.4053059 adp_c '\n",
    "\n",
    "ZIKV = Reaction('ZIKV')\n",
    "ZIKV.id = 'ZIKV'\n",
    "ZIKV.name = 'ZIKV synthesis'\n",
    "model.add_reaction(ZIKV)\n",
    "model.reactions.ZIKV.build_reaction_from_string(virusRxn,1)\n",
    "print('ADDED reaction! '+ str(model.reactions.ZIKV))"
   ]
  },
  {
   "cell_type": "raw",
   "metadata": {
    "ExecuteTime": {
     "end_time": "2019-12-18T17:23:55.969899Z",
     "start_time": "2019-12-18T17:23:54.955246Z"
    }
   },
   "source": [
    "cobra.io.save_json_model(model, \"endosymbioticModelViralInfection.json\")"
   ]
  },
  {
   "cell_type": "code",
   "execution_count": 51,
   "metadata": {},
   "outputs": [],
   "source": [
    "model = setMedia(model)"
   ]
  },
  {
   "cell_type": "code",
   "execution_count": 52,
   "metadata": {},
   "outputs": [
    {
     "data": {
      "text/html": [
       "<strong><em>Optimal</em> solution with objective value 0.131</strong><br><div>\n",
       "<style scoped>\n",
       "    .dataframe tbody tr th:only-of-type {\n",
       "        vertical-align: middle;\n",
       "    }\n",
       "\n",
       "    .dataframe tbody tr th {\n",
       "        vertical-align: top;\n",
       "    }\n",
       "\n",
       "    .dataframe thead th {\n",
       "        text-align: right;\n",
       "    }\n",
       "</style>\n",
       "<table border=\"1\" class=\"dataframe\">\n",
       "  <thead>\n",
       "    <tr style=\"text-align: right;\">\n",
       "      <th></th>\n",
       "      <th>fluxes</th>\n",
       "      <th>reduced_costs</th>\n",
       "    </tr>\n",
       "  </thead>\n",
       "  <tbody>\n",
       "    <tr>\n",
       "      <th>1a_24_25VITD2Hm</th>\n",
       "      <td>0.000000</td>\n",
       "      <td>0.000000e+00</td>\n",
       "    </tr>\n",
       "    <tr>\n",
       "      <th>1a_24_25VITD3Hm</th>\n",
       "      <td>0.000000</td>\n",
       "      <td>0.000000e+00</td>\n",
       "    </tr>\n",
       "    <tr>\n",
       "      <th>1a_25VITD2Hm</th>\n",
       "      <td>0.000000</td>\n",
       "      <td>0.000000e+00</td>\n",
       "    </tr>\n",
       "    <tr>\n",
       "      <th>1a_25VITD3Hm</th>\n",
       "      <td>0.000000</td>\n",
       "      <td>0.000000e+00</td>\n",
       "    </tr>\n",
       "    <tr>\n",
       "      <th>1PPDCRp</th>\n",
       "      <td>0.000000</td>\n",
       "      <td>0.000000e+00</td>\n",
       "    </tr>\n",
       "    <tr>\n",
       "      <th>...</th>\n",
       "      <td>...</td>\n",
       "      <td>...</td>\n",
       "    </tr>\n",
       "    <tr>\n",
       "      <th>sink_pcholW</th>\n",
       "      <td>0.000000</td>\n",
       "      <td>0.000000e+00</td>\n",
       "    </tr>\n",
       "    <tr>\n",
       "      <th>sink_peW</th>\n",
       "      <td>0.000000</td>\n",
       "      <td>0.000000e+00</td>\n",
       "    </tr>\n",
       "    <tr>\n",
       "      <th>sink_psW</th>\n",
       "      <td>0.000000</td>\n",
       "      <td>0.000000e+00</td>\n",
       "    </tr>\n",
       "    <tr>\n",
       "      <th>sink_pailW</th>\n",
       "      <td>0.000000</td>\n",
       "      <td>0.000000e+00</td>\n",
       "    </tr>\n",
       "    <tr>\n",
       "      <th>ZIKV</th>\n",
       "      <td>0.130985</td>\n",
       "      <td>5.551115e-17</td>\n",
       "    </tr>\n",
       "  </tbody>\n",
       "</table>\n",
       "<p>6330 rows × 2 columns</p>\n",
       "</div>"
      ],
      "text/plain": [
       "<Solution 0.131 at 0x127836908>"
      ]
     },
     "execution_count": 52,
     "metadata": {},
     "output_type": "execute_result"
    }
   ],
   "source": [
    "model.objective = 'ZIKV'\n",
    "sol = model.optimize()\n",
    "sol"
   ]
  },
  {
   "cell_type": "markdown",
   "metadata": {},
   "source": [
    "Grid to plot relation between _Wolbachia_ density and viral production. This may take a while"
   ]
  },
  {
   "cell_type": "code",
   "execution_count": 53,
   "metadata": {
    "ExecuteTime": {
     "end_time": "2019-12-10T14:26:25.266152Z",
     "start_time": "2019-12-10T14:13:51.545717Z"
    }
   },
   "outputs": [
    {
     "name": "stdout",
     "output_type": "stream",
     "text": [
      "[0.001      0.00533333 0.00966667 0.014      0.01833333 0.02266667\n",
      " 0.027      0.03133333 0.03566667 0.04      ]\n"
     ]
    }
   ],
   "source": [
    "#Define wolbachia minimum growth grid\n",
    "wolBioLen = 10 #100\n",
    "mosBioLen = 10 #era 100\n",
    "#wolBio = np.linspace(0.01,0.1,wolBioLen)\n",
    "#wolBio = np.linspace(0,0.05,wolBioLen)\n",
    "wolBio = np.linspace(0,0.08,wolBioLen)\n",
    "mosBio = np.linspace(0.001,0.04,mosBioLen)\n",
    "\n",
    "print( mosBio)\n",
    "\n",
    "#bioW = model.reactions.get_by_id('bioT')\n",
    "#solmB = [] #biomass mosquito\n",
    "#model.objective = 'biomass_reaction'\n",
    "\n",
    "#Define Mosquito minimum growth grid\n",
    "\n",
    "bioM = model.reactions.get_by_id('biomass_reaction')\n",
    "bioW = model.reactions.get_by_id('biomass_wolbachia')\n",
    "solV = [] #biomass wolbachia\n",
    "solM = []\n",
    "solW = []\n",
    "model.objective = 'ZIKV'\n",
    "\n",
    "for mB in mosBio:\n",
    "    #print mB\n",
    "    bioM.lower_bound = mB\n",
    "    bioM.upper_bound = mB\n",
    "    for wB in wolBio:\n",
    "        bioW.lower_bound = wB\n",
    "        bioW.upper_bound = wB\n",
    "        \n",
    "        try:\n",
    "            sol = model.optimize()\n",
    "            #print model.summary()\n",
    "            if sol['ZIKV'] > 0:\n",
    "                solV.append(sol['ZIKV'])\n",
    "                solM.append(mB)\n",
    "                solW.append(wB)\n",
    "            \n",
    "            else: \n",
    "                solV.append(0)\n",
    "                solM.append(mB)\n",
    "                solW.append(wB)\n",
    "\n",
    "        except:\n",
    "            print(wB)\n",
    "            solV.append(0)\n",
    "            solM.append(mB)\n",
    "            solW.append(wB)"
   ]
  },
  {
   "cell_type": "code",
   "execution_count": 54,
   "metadata": {
    "ExecuteTime": {
     "end_time": "2019-12-10T17:20:03.128982Z",
     "start_time": "2019-12-10T17:19:58.898762Z"
    }
   },
   "outputs": [
    {
     "data": {
      "text/plain": [
       "[<matplotlib.axis.XTick at 0x128ab0748>,\n",
       " <matplotlib.axis.XTick at 0x127a162b0>,\n",
       " <matplotlib.axis.XTick at 0x120630828>,\n",
       " <matplotlib.axis.XTick at 0x120630240>,\n",
       " <matplotlib.axis.XTick at 0x120630be0>]"
      ]
     },
     "execution_count": 54,
     "metadata": {},
     "output_type": "execute_result"
    },
    {
     "data": {
      "image/png": "[encoded data removed]",
      "text/plain": [
       "<Figure size 432x288 with 1 Axes>"
      ]
     },
     "metadata": {
      "needs_background": "light"
     },
     "output_type": "display_data"
    }
   ],
   "source": [
    "from mpl_toolkits.mplot3d import Axes3D\n",
    "from matplotlib.ticker import FormatStrFormatter\n",
    "\n",
    "fig = plt.figure()\n",
    "ax = fig.add_subplot(111, projection='3d')\n",
    "ax.w_xaxis.set_pane_color((1.0, 1.0, 1.0, 1.0))\n",
    "ax.w_yaxis.set_pane_color((1.0, 1.0, 1.0, 1.0))\n",
    "ax.w_zaxis.set_pane_color((1.0, 1.0, 1.0, 1.0))\n",
    "ax.plot_trisurf(solW, solM, solV, cmap = plt.cm.viridis_r)#= plt.cm.Spectral)\n",
    "\n",
    "ax.set_xlabel('$\\it{Wolbachia}$ growth [1/h]')\n",
    "ax.set_ylabel('$\\it{A. aegypti}$ growth [1/h]')\n",
    "ax.set_zlabel('Virus production [$\\mu$mol/min/gDW]')\n",
    "ax.yaxis.set_major_formatter(FormatStrFormatter('%.3f'))\n",
    "\n",
    "\n",
    "start, end = ax.get_ylim()\n",
    "\n",
    "ax.yaxis.set_ticks(np.arange(0,end,0.01))\n"
   ]
  },
  {
   "cell_type": "markdown",
   "metadata": {},
   "source": [
    "## Wolbachia artificial biomass analysis\n",
    "Different _Wolbachia pipientis_ compositions defined for lipids, amino acids, nucleotides and others in order to test which one of these components is key for the pathogen blocking phenotype"
   ]
  },
  {
   "cell_type": "code",
   "execution_count": 55,
   "metadata": {},
   "outputs": [],
   "source": [
    "biomassWLipids  = '0.00836 chsterol_w + 0.001751 pe140_w + 0.013972 pe160_w +  0.012628 pe161_w +  0.004119 pe180_w + 0.027998 pe181_w + 0.000621 pg140_w + 0.004942 pg160_w +  0.006254 pg161_w + 0.000484 pg180_w +  0.010596 pg181_w + 0.000169 ps140_w + 0.001005 ps160_w + 0.000908 ps161_w + 0.000295 ps180_w + 0.002005 ps181_w + 0.002277 clpn1_hs_w + 0.00112 clpn3_hs_w + 0.00219 clpn2_hs_w + 0.000621 pg140_w -> '#-> '#' + 0.000621 pg140_w -> '\n",
    "biomassWAminoAcids = '0.219088 gln_L_w + 0.50987 gly_w + 0.427934 ala_L_w + 0.285438 lys_L_w + 0.200831 asn_L_w + 0.246697 arg_L_w + 0.219088 glu_L_w + 0.179456 ser_L_w + 0.127801 met_L_w + 0.047202 trp_L_w + 0.154519 phe_L_w + 0.120677 tyr_L_w + 0.076146 cys_L_w + 0.375389 leu_L_w +   0.079264 his_L_w + 0.184355 pro_L_w +  0.200831 asp_L_w + 0.352233 val_L_w + 0.211073 thr_L_w + 0.241799 ile_L_w + 55.350309 h2o_w -> '\n",
    "biomassWNucleotides = '0.209121 gtp_w +  0.299774 ctp_w + 0.000223 thmpp_w + 0.140101 utp_w +  0.034997 datp_w +  0.016697 dctp_w + 0.016697 dgtp_w +  0.034997 dttp_w --> '\n",
    "biomassWOthers = '0.001787 nad_w + 0.000223 10fthf_w + 0.000223 5mthf_w + 0.000279 accoa_w +  0.000223 amet_w +    0.00474 ca2_w + 0.00474 cl_w +    0.000168 coa_w + 0.00316 cobalt2_w +  0.00316 cu2_w +  5.5e-05 dtpcudcpp_w +  0.000223 fad_w + 0.007109 fe2_w + 0.007109 fe3_w +    0.000223 gthrd_w + 0.000223 hemeO_w +   0.177735 k_w + 3.1e-05 malcoa_w +  0.007899 mg2_w + 0.000223 mlthf_w + 0.00316 mn2_w +  4.5e-05 nadh_w + 0.000335 nadph_w + 0.011849 nh4_w +        0.000223 pheme_w +      0.03327 ptrc_w + 0.000223 pydx5p_w + 0.000223 q8_w + 0.000223 ribflv_w +  0.000223 sheme_w + 0.00395 so4_w + 0.006744 spmd_w + 9.8e-05 succoa_w + 0.000223 thf_w +     0.013381 uaagmda_w +   0.00316 zn2_w  ->'\n",
    "\n"
   ]
  },
  {
   "cell_type": "code",
   "execution_count": 56,
   "metadata": {
    "scrolled": true
   },
   "outputs": [
    {
     "name": "stderr",
     "output_type": "stream",
     "text": [
      "cobra/core/model.py:727 \u001b[1;31mUserWarning\u001b[0m: bioWA not in symbiotic\n",
      "cobra/core/model.py:727 \u001b[1;31mUserWarning\u001b[0m: bioWL not in symbiotic\n",
      "cobra/core/model.py:727 \u001b[1;31mUserWarning\u001b[0m: bioWN not in symbiotic\n",
      "cobra/core/model.py:727 \u001b[1;31mUserWarning\u001b[0m: bioWO not in symbiotic\n"
     ]
    }
   ],
   "source": [
    "#Required to \"clean\" reactions variables in case you are re-running this analysis\n",
    "model.remove_reactions(list(['bioWA', 'bioWL', 'bioWN', 'bioWO']))\n",
    "model = setMedia(model)\n",
    "#Reset constraint for Wolbachia growth\n",
    "bioW = model.reactions.get_by_id('biomass_wolbachia')\n",
    "bioW.lower_bound = 0\n",
    "bioW.upper_bound = 0"
   ]
  },
  {
   "cell_type": "code",
   "execution_count": 57,
   "metadata": {},
   "outputs": [
    {
     "name": "stderr",
     "output_type": "stream",
     "text": [
      "cobra/core/model.py:727 \u001b[1;31mUserWarning\u001b[0m: bioWA not in symbiotic\n",
      "cobra/core/model.py:727 \u001b[1;31mUserWarning\u001b[0m: bioWL not in symbiotic\n",
      "cobra/core/model.py:727 \u001b[1;31mUserWarning\u001b[0m: bioWN not in symbiotic\n",
      "cobra/core/model.py:727 \u001b[1;31mUserWarning\u001b[0m: bioWO not in symbiotic\n"
     ]
    }
   ],
   "source": [
    "model.remove_reactions(list(['bioWA', 'bioWL', 'bioWN', 'bioWO']))\n",
    "bioWL = Reaction('biomassWLipids')\n",
    "bioWL.id = 'bioWL'\n",
    "bioWL.name = 'Biomass Wolbachia only lipids'\n",
    "bioWL.lower_bound = -1000\n",
    "bioWL.upper_bound = 1000\n",
    "model.add_reaction(bioWL)\n",
    "model.reactions.bioWL.build_reaction_from_string(biomassWLipids,1)"
   ]
  },
  {
   "cell_type": "code",
   "execution_count": 58,
   "metadata": {},
   "outputs": [],
   "source": [
    "##Solution Wolbachia lipid only biomass\n",
    "wolBio = np.linspace(0.02,0.1,100)\n",
    "bioWString = 'bioWL'\n",
    "bioW = model.reactions.get_by_id(bioWString)\n",
    "solmB = [] #biomass Wolbachia\n",
    "solV = []\n",
    "model.objective = 'ZIKV'\n",
    "\n",
    "bioM = model.reactions.get_by_id('biomass_reaction')\n",
    "bioM.lower_bound = 0.02\n",
    "bioM.upper_bound = 0.02\n",
    "\n",
    "for wB in wolBio:  \n",
    "    bioW.lower_bound = wB\n",
    "    bioW.upper_bound = wB\n",
    "    try:\n",
    "        sol = model.optimize()\n",
    "        #print model.summary()\n",
    "        if sol['ZIKV'] > 0:\n",
    "        #if sol['biomass_reaction'] > 0:\n",
    "            solmB.append(sol[bioWString])\n",
    "            solV.append(sol['ZIKV'])\n",
    "           \n",
    "        else: \n",
    "            solmB.append(0)\n",
    "            solV.append(0)\n",
    "    except:\n",
    "        print(wB)\n",
    "        #solmB.append(-1)\n",
    "        solV.append(-1)\n",
    "\n",
    "##Solution Wolbachia lipid only biomass\n",
    "solVWL = solV\n",
    "solWL = solmB\n",
    "bioW = model.reactions.get_by_id(bioWString)\n",
    "bioW.lower_bound = 0\n",
    "bioW.upper_bound = 0\n"
   ]
  },
  {
   "cell_type": "code",
   "execution_count": 59,
   "metadata": {},
   "outputs": [
    {
     "name": "stderr",
     "output_type": "stream",
     "text": [
      "cobra/core/model.py:727 \u001b[1;31mUserWarning\u001b[0m: bioWA not in symbiotic\n",
      "cobra/core/model.py:727 \u001b[1;31mUserWarning\u001b[0m: bioWN not in symbiotic\n",
      "cobra/core/model.py:727 \u001b[1;31mUserWarning\u001b[0m: bioWO not in symbiotic\n"
     ]
    }
   ],
   "source": [
    "model.remove_reactions(list(['bioWA', 'bioWL', 'bioWN', 'bioWO']))\n",
    "bioWA = Reaction('biomassWAminoAcids')\n",
    "bioWA.id = 'bioWA'\n",
    "bioWA.name = 'Biomass Wolbachia only AA'\n",
    "bioWA.lower_bound = -1000\n",
    "bioWA.upper_bound = 1000\n",
    "model.add_reaction(bioWA)\n",
    "model.reactions.bioWA.build_reaction_from_string(biomassWAminoAcids,1)"
   ]
  },
  {
   "cell_type": "code",
   "execution_count": 60,
   "metadata": {},
   "outputs": [],
   "source": [
    "##Solution Wolbachia lipid only Aminoacids\n",
    "wolBio = np.linspace(0.02,0.1,100)\n",
    "#wolBio = np.linspace(0.02,0.06,100)\n",
    "bioWString = 'bioWA'\n",
    "bioW = model.reactions.get_by_id(bioWString)\n",
    "solmB = [] #biomass Wolbachia\n",
    "solV = []\n",
    "model.objective = 'ZIKV'\n",
    "\n",
    "bioM = model.reactions.get_by_id('biomass_reaction')\n",
    "bioM.lower_bound = 0.02\n",
    "bioM.upper_bound = 0.02\n",
    "\n",
    "for wB in wolBio:  \n",
    "    bioW.lower_bound = wB\n",
    "    bioW.upper_bound = wB\n",
    "    try:\n",
    "        sol = model.optimize()\n",
    "        #print model.summary()\n",
    "        if sol['ZIKV'] > 0:\n",
    "        #if sol['biomass_reaction'] > 0:\n",
    "            solmB.append(sol[bioWString])\n",
    "            solV.append(sol['ZIKV'])\n",
    "           \n",
    "        else: \n",
    "            solmB.append(0)\n",
    "            solV.append(0)\n",
    "    except:\n",
    "        print(wB)\n",
    "        #solmB.append(-1)\n",
    "        solV.append(-1)\n",
    "\n",
    "##Solution Wolbachia lipid only Aminoacids\n",
    "solVWA = solV\n",
    "solWA = solmB\n",
    "\n",
    "bioW = model.reactions.get_by_id(bioWString)\n",
    "bioW.lower_bound = 0\n",
    "bioW.upper_bound = 0"
   ]
  },
  {
   "cell_type": "code",
   "execution_count": 61,
   "metadata": {},
   "outputs": [
    {
     "name": "stderr",
     "output_type": "stream",
     "text": [
      "cobra/core/model.py:727 \u001b[1;31mUserWarning\u001b[0m: bioWL not in symbiotic\n",
      "cobra/core/model.py:727 \u001b[1;31mUserWarning\u001b[0m: bioWN not in symbiotic\n",
      "cobra/core/model.py:727 \u001b[1;31mUserWarning\u001b[0m: bioWO not in symbiotic\n"
     ]
    }
   ],
   "source": [
    "model.remove_reactions(list(['bioWA', 'bioWL', 'bioWN', 'bioWO']))\n",
    "bioWN = Reaction('biomassWNucleotides')\n",
    "bioWN.id = 'bioWN'\n",
    "bioWN.name = 'Biomass Wolbachia only nucleotides'\n",
    "bioWN.lower_bound = -1000\n",
    "bioWN.upper_bound = 1000\n",
    "model.add_reaction(bioWN)\n",
    "model.reactions.bioWN.build_reaction_from_string(biomassWNucleotides,1)"
   ]
  },
  {
   "cell_type": "code",
   "execution_count": 62,
   "metadata": {},
   "outputs": [],
   "source": [
    "##Solution Wolbachia only Nucleotides\n",
    "wolBio = np.linspace(0.02,0.1,100)\n",
    "bioWString = 'bioWN'\n",
    "bioW = model.reactions.get_by_id(bioWString)\n",
    "solmB = [] #biomass Wolbachia\n",
    "solV = []\n",
    "model.objective = 'ZIKV'\n",
    "\n",
    "bioM = model.reactions.get_by_id('biomass_reaction')\n",
    "bioM.lower_bound = 0.02\n",
    "bioM.upper_bound = 0.02\n",
    "\n",
    "for wB in wolBio:  \n",
    "    bioW.lower_bound = wB\n",
    "    bioW.upper_bound = wB\n",
    "    try:\n",
    "        sol = model.optimize()\n",
    "        #print model.summary()\n",
    "        if sol['ZIKV'] > 0:\n",
    "            solmB.append(sol[bioWString])\n",
    "            solV.append(sol['ZIKV'])\n",
    "            #print sol['ZIKV']\n",
    "        else: \n",
    "            solmB.append(sol[bioWString])\n",
    "            solV.append(0)\n",
    "    except:\n",
    "        print(wB)\n",
    "        #solmB.append(-1)\n",
    "        solV.append(-1)\n",
    "\n",
    "##Solution Wolbachia lipid only Nucleotides\n",
    "solVWN = solV\n",
    "solWN = solmB\n",
    "\n",
    "bioW = model.reactions.get_by_id(bioWString)\n",
    "bioW.lower_bound = 0\n",
    "bioW.upper_bound = 0"
   ]
  },
  {
   "cell_type": "code",
   "execution_count": 63,
   "metadata": {},
   "outputs": [
    {
     "name": "stderr",
     "output_type": "stream",
     "text": [
      "cobra/core/model.py:727 \u001b[1;31mUserWarning\u001b[0m: bioWA not in symbiotic\n",
      "cobra/core/model.py:727 \u001b[1;31mUserWarning\u001b[0m: bioWL not in symbiotic\n",
      "cobra/core/model.py:727 \u001b[1;31mUserWarning\u001b[0m: bioWO not in symbiotic\n"
     ]
    }
   ],
   "source": [
    "model.remove_reactions(list(['bioWA', 'bioWL', 'bioWN', 'bioWO']))\n",
    "bioWO = Reaction('biomassWOthers')\n",
    "bioWO.id = 'bioWO'\n",
    "bioWO.name = 'Biomass Wolbachia Others'\n",
    "bioWO.lower_bound = -1000\n",
    "bioWO.upper_bound = 1000\n",
    "model.add_reaction(bioWO)\n",
    "model.reactions.bioWO.build_reaction_from_string(biomassWOthers,1)"
   ]
  },
  {
   "cell_type": "code",
   "execution_count": 64,
   "metadata": {},
   "outputs": [
    {
     "name": "stderr",
     "output_type": "stream",
     "text": [
      "cobra/util/solver.py:416 \u001b[1;31mUserWarning\u001b[0m: solver status is 'infeasible'\n"
     ]
    }
   ],
   "source": [
    "##Solution Wolbachia only Others\n",
    "wolBio = np.linspace(0.01,0.1,100)\n",
    "bioWString = 'bioWO'\n",
    "bioW = model.reactions.get_by_id(bioWString)\n",
    "solmB = [] #biomass Wolbachia\n",
    "solV = []\n",
    "model.objective = 'ZIKV'\n",
    "\n",
    "bioM = model.reactions.get_by_id('biomass_reaction')\n",
    "bioM.lower_bound = 0.02\n",
    "bioM.upper_bound = 0.02\n",
    "for wB in wolBio:  \n",
    "    bioW.lower_bound = wB\n",
    "    bioW.upper_bound = wB\n",
    "\n",
    "    sol = model.optimize()\n",
    "    #print model.summary()\n",
    "    solmB.append(sol[bioWString])\n",
    "    solV.append(sol['ZIKV'])\n",
    "\n",
    "\n",
    "\n",
    "##Solution Wolbachia only Others\n",
    "solVWO = solV\n",
    "solWO = solmB\n",
    "\n",
    "bioW = model.reactions.get_by_id(bioWString)\n",
    "bioW.lower_bound = 0\n",
    "bioW.upper_bound = 0"
   ]
  },
  {
   "cell_type": "code",
   "execution_count": 65,
   "metadata": {},
   "outputs": [
    {
     "name": "stderr",
     "output_type": "stream",
     "text": [
      "cobra/core/model.py:727 \u001b[1;31mUserWarning\u001b[0m: bioWA not in symbiotic\n",
      "cobra/core/model.py:727 \u001b[1;31mUserWarning\u001b[0m: bioWL not in symbiotic\n",
      "cobra/core/model.py:727 \u001b[1;31mUserWarning\u001b[0m: bioWN not in symbiotic\n"
     ]
    }
   ],
   "source": [
    "model.remove_reactions(list(['bioWA', 'bioWL', 'bioWN', 'bioWO']))"
   ]
  },
  {
   "cell_type": "code",
   "execution_count": 68,
   "metadata": {},
   "outputs": [],
   "source": [
    "#Define wolbachia minimum growth grid\n",
    "wolBio = np.linspace(0.02,0.1,500)\n",
    "bioW = model.reactions.get_by_id('biomass_wolbachia')\n",
    "solmB = [] #biomass Wolbachia\n",
    "solV = []\n",
    "model.objective = 'ZIKV'\n",
    "\n",
    "bioM = model.reactions.get_by_id('biomass_reaction')\n",
    "bioM.lower_bound = 0.02\n",
    "bioM.upper_bound = 0.02\n",
    "\n",
    "for wB in wolBio:  \n",
    "    bioW.lower_bound = wB\n",
    "    bioW.upper_bound = wB\n",
    "   \n",
    "    try:\n",
    "        sol = model.optimize()\n",
    "        #print model.summary()\n",
    "        if sol['ZIKV'] > 0:\n",
    "        #if sol['biomass_reaction'] > 0:\n",
    "            solmB.append(sol['biomass_wolbachia'])\n",
    "            solV.append(sol['ZIKV'])\n",
    "           \n",
    "        else: \n",
    "            solmB.append(0)\n",
    "            solV.append(0)\n",
    "    except:\n",
    "        #solmB = -1\n",
    "        print(wB)\n",
    "        #solmB.append(-1)\n",
    "        solV.append(-1)\n",
    "\n",
    "##Solution Wolbachia complete biomass\n",
    "solVWC = solV\n",
    "solWC = solmB"
   ]
  },
  {
   "cell_type": "code",
   "execution_count": 69,
   "metadata": {},
   "outputs": [
    {
     "data": {
      "image/png": "[encoded data removed]",
      "text/plain": [
       "<Figure size 432x288 with 1 Axes>"
      ]
     },
     "metadata": {
      "needs_background": "light"
     },
     "output_type": "display_data"
    }
   ],
   "source": [
    "plt.plot(solWN,solVWN, label = 'Nucleotides')#', color ='#7f7f7f')\n",
    "plt.plot(solWL,solVWL, label = 'Lipids')#, color='#e377c2')\n",
    "plt.plot(solWA,solVWA, label='Amino acids')# ', color ='#17becf')\n",
    "plt.plot(solWC,solVWC, label='Complete $\\it{Wolbachia}$ biomass')#, color='#ff7f0e')\n",
    "\n",
    "\n",
    "\n",
    "#plt.plot(solWO,solVWO)\n",
    "plt.xlabel('$\\it{Wolbachia}$ growth [1/h]')\n",
    "plt.ylabel('Virus production [$\\mu$mol/min/gDW]')\n",
    "plt.legend()\n",
    "\n",
    "plt.tight_layout()\n",
    "\n",
    "\n",
    "#plt.savefig('pathogenBlockingBiomass.pdf')"
   ]
  },
  {
   "cell_type": "markdown",
   "metadata": {},
   "source": [
    "## Generación sampling mosquito/Wolbachia\n",
    "Para el gráfico se usan datos guardados de sampling"
   ]
  },
  {
   "cell_type": "code",
   "execution_count": 19,
   "metadata": {},
   "outputs": [],
   "source": [
    "rxns = find_blocked_reactions(model)\n",
    "\n",
    "for r in rxns:\n",
    "    toDelete = model.reactions.get_by_id(r)\n",
    "    toDelete.delete()"
   ]
  },
  {
   "cell_type": "raw",
   "metadata": {},
   "source": [
    "#Test sample\n",
    "\n",
    "wolBound = np.linspace(0.0001,0.13,50)\n",
    "bioM = []\n",
    "ebioM = []\n",
    "bioW = []\n",
    "for wB in wolBound:\n",
    "    print wB\n",
    "    rxn = model.reactions.get_by_id('biomass_wolbachia')\n",
    "    rxn.lower_bound = wB\n",
    "    rxn.upper_bound = wB\n",
    "    sc = sample(model, 10, processes=16)\n",
    "    bioM.append(sc['biomass_reaction'])\n",
    "    bioW.append(sc['bioT'])"
   ]
  },
  {
   "cell_type": "raw",
   "metadata": {},
   "source": [
    "\n",
    "\n",
    "rxn = model.reactions.get_by_id('biomass_wolbachia')\n",
    "rxn.lower_bound = 0\n",
    "rxn.upper_bound = 1000\n",
    "\n",
    "sc = sample(model, 20000, processes=16)\n",
    "#sc.head()\n",
    "sc.to_csv('20181112csamplingSymbioticUnconstrained.csv') #New media constraints\n",
    "bioM = sc['biomass_reaction']\n",
    "bioW = sc['biomass_wolbachia']\n",
    "bioMS = bioM\n",
    "bioWS = bioW"
   ]
  }
 ],
 "metadata": {
  "kernelspec": {
   "display_name": "Python 3",
   "language": "python",
   "name": "python3"
  },
  "language_info": {
   "codemirror_mode": {
    "name": "ipython",
    "version": 3
   },
   "file_extension": ".py",
   "mimetype": "text/x-python",
   "name": "python",
   "nbconvert_exporter": "python",
   "pygments_lexer": "ipython3",
   "version": "3.6.10"
  }
 },
 "nbformat": 4,
 "nbformat_minor": 2
}
